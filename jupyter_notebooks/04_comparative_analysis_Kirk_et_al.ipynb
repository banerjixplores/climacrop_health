{
 "cells": [
  {
   "cell_type": "markdown",
   "id": "5d1e6f8a",
   "metadata": {},
   "source": [
    "**Justification of Performance Relative to Kirk et al. (2025). Justification of Performance Relative to Kirk et al. (2025)**\n",
    "\n",
    "While Kirk et al. report a maximum conditional R² of 0.63 for agricultural systems and up to 0.93 for wild systems using mixed‐effects models that explicitly include study‐level and host‐level random effects, our pure‐ML pipeline achieved 0.57 (Agri) and 0.52 (Wild) on cross‐validation. Key reasons for this gap include:\n",
    "\n",
    "Lack of random effects: Kirk et al.’s conditional R² incorporates variance explained by hierarchical (study and host) random effects, which our stacking and Ridge‐spline pipelines do not model.\n",
    "\n",
    "Mixed‐effects vs. fixed‐effects only: Mixed models absorb unmeasured heterogeneity (e.g., study protocols, geographic clusters), boosting apparent R²; pure‐ML approaches must learn these effects from features alone.\n",
    "\n",
    "Small Wild sample size: Their wild models leverage random effects over 16 studies (n=623) to stabilize estimates, whereas our wild-only Ridge‐spline fits on 600 observations struggle with high variance across splits.\n",
    "\n",
    "Simplified feature set: Kirk et al. used tailored covariates (monthly vs. annual climate windows, curated interaction terms, climate zone strata) and mixed‐model structures; our generalized pipeline uses a fixed set of spline and anomaly features across systems."
   ]
  },
  {
   "cell_type": "markdown",
   "id": "50784cc7",
   "metadata": {},
   "source": []
  }
 ],
 "metadata": {
  "language_info": {
   "name": "python"
  }
 },
 "nbformat": 4,
 "nbformat_minor": 5
}
